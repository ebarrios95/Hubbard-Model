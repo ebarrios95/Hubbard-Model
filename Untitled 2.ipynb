{
 "cells": [
  {
   "cell_type": "code",
   "execution_count": 1,
   "metadata": {},
   "outputs": [],
   "source": [
    "from numpy import*\n",
    "from pylab import*"
   ]
  },
  {
   "cell_type": "code",
   "execution_count": 2,
   "metadata": {},
   "outputs": [],
   "source": [
    "i = 1.0*10**-3 #mA\n",
    "V = 1.0*10**-3 #mV\n",
    "T = np.arange(100, 300)\n",
    "#e = 1.602 * 10**-19\n",
    "e =1\n",
    "Kb = 8.617*10**-5 "
   ]
  },
  {
   "cell_type": "code",
   "execution_count": 3,
   "metadata": {},
   "outputs": [
    {
     "name": "stdout",
     "output_type": "stream",
     "text": [
      "I = 6.152583e-05\n"
     ]
    }
   ],
   "source": [
    "I = i*(exp((e*V)/(Kb*T)) - 1)\n",
    "print('I = %e'%(I[0]/2))"
   ]
  },
  {
   "cell_type": "code",
   "execution_count": 4,
   "metadata": {},
   "outputs": [
    {
     "name": "stdout",
     "output_type": "stream",
     "text": [
      "192\n",
      "193\n",
      "194\n"
     ]
    }
   ],
   "source": [
    "i = 1\n",
    "while i < len(I)-1:\n",
    "    i += 1\n",
    "    if round(I[0]/2, 6) == round(I[i], 6):\n",
    "        print(T[i])\n",
    "    "
   ]
  },
  {
   "cell_type": "code",
   "execution_count": 6,
   "metadata": {},
   "outputs": [
    {
     "ename": "SyntaxError",
     "evalue": "positional argument follows keyword argument (<ipython-input-6-2d601495133d>, line 2)",
     "output_type": "error",
     "traceback": [
      "\u001b[0;36m  File \u001b[0;32m\"<ipython-input-6-2d601495133d>\"\u001b[0;36m, line \u001b[0;32m2\u001b[0m\n\u001b[0;31m    plt.ticklabel_format(style = 'sci', axis ='x','y', scilimits = (0,0))\u001b[0m\n\u001b[0m                                                 ^\u001b[0m\n\u001b[0;31mSyntaxError\u001b[0m\u001b[0;31m:\u001b[0m positional argument follows keyword argument\n"
     ]
    }
   ],
   "source": [
    "plt.plot(T,I)\n",
    "plt.ticklabel_format(style = 'sci', axis ='x','y', scilimits = (0,0))\n",
    "plt.ylabel('I (Current)')\n",
    "plt.xlabel('T (temp)')\n",
    "plt.title(\"Forward Bias\")"
   ]
  },
  {
   "cell_type": "code",
   "execution_count": null,
   "metadata": {},
   "outputs": [],
   "source": []
  },
  {
   "cell_type": "code",
   "execution_count": null,
   "metadata": {},
   "outputs": [],
   "source": []
  }
 ],
 "metadata": {
  "kernelspec": {
   "display_name": "Python 3",
   "language": "python",
   "name": "python3"
  },
  "language_info": {
   "codemirror_mode": {
    "name": "ipython",
    "version": 3
   },
   "file_extension": ".py",
   "mimetype": "text/x-python",
   "name": "python",
   "nbconvert_exporter": "python",
   "pygments_lexer": "ipython3",
   "version": "3.7.4"
  }
 },
 "nbformat": 4,
 "nbformat_minor": 2
}
